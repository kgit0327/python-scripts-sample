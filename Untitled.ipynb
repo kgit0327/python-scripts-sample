{
 "cells": [
  {
   "cell_type": "code",
   "execution_count": null,
   "metadata": {},
   "outputs": [],
   "source": [
    "\\displaystyle \\left[\\begin{matrix}\\dot{p}_{1}\\\\\\dot{p}_{2}\\\\\\dot{\\theta}_{0}\\\\\\dot{\\theta}_{1}\\\\- \\frac{a_{1} \\left(a_{1} l_{1} m_{2} \\operatorname{sin}\\left(\\theta_{0} - \\theta_{1}\\right) \\dot{\\theta}_{0}^{2} + a_{2} l_{2} m_{2} \\operatorname{sin}\\left(\\theta_{0}\\right) \\dot{\\theta}_{0}^{2} - 2 a_{2} l_{2} m_{2} \\operatorname{sin}\\left(\\theta_{0}\\right) \\dot{\\theta}_{0} \\dot{\\theta}_{1} + a_{2} l_{2} m_{2} \\operatorname{sin}\\left(\\theta_{0}\\right) \\dot{\\theta}_{1}^{2} + g m_{1} \\operatorname{sin}\\left(\\theta_{0} - \\theta_{1}\\right) \\operatorname{sin}\\left(\\theta_{0}\\right) - g m_{2} \\operatorname{sin}\\left(\\theta_{0} - \\theta_{1}\\right) \\operatorname{sin}\\left(\\theta_{0}\\right) - l_{1} m_{2} \\operatorname{sin}\\left(\\theta_{0} - \\theta_{1}\\right) \\dot{\\theta}_{0}^{2}\\right)}{m_{2} \\left(a_{1} - 1\\right) \\operatorname{sin}\\left(\\theta_{1}\\right)}\\\\\\frac{a_{1}^{2} l_{1} m_{2} \\operatorname{cos}\\left(\\theta_{0} - \\theta_{1}\\right) \\dot{\\theta}_{0}^{2} + a_{1} a_{2} l_{2} m_{2} \\operatorname{cos}\\left(\\theta_{0}\\right) \\dot{\\theta}_{0}^{2} - 2 a_{1} a_{2} l_{2} m_{2} \\operatorname{cos}\\left(\\theta_{0}\\right) \\dot{\\theta}_{0} \\dot{\\theta}_{1} + a_{1} a_{2} l_{2} m_{2} \\operatorname{cos}\\left(\\theta_{0}\\right) \\dot{\\theta}_{1}^{2} + a_{1} g m_{1} \\operatorname{sin}\\left(\\theta_{0} - \\theta_{1}\\right) \\operatorname{cos}\\left(\\theta_{0}\\right) - a_{1} g m_{2} \\operatorname{sin}\\left(\\theta_{0}\\right) \\operatorname{cos}\\left(\\theta_{0} - \\theta_{1}\\right) - a_{1} l_{1} m_{2} \\operatorname{cos}\\left(\\theta_{0} - \\theta_{1}\\right) \\dot{\\theta}_{0}^{2} + g m_{2} \\operatorname{sin}\\left(\\theta_{1}\\right)}{m_{2} \\left(a_{1} - 1\\right) \\operatorname{sin}\\left(\\theta_{1}\\right)}\\\\\\frac{- a_{1} l_{1} m_{2} \\operatorname{cos}\\left(\\theta_{1}\\right) \\dot{\\theta}_{0}^{2} - a_{2} l_{2} m_{2} \\dot{\\theta}_{0}^{2} + 2 a_{2} l_{2} m_{2} \\dot{\\theta}_{0} \\dot{\\theta}_{1} - a_{2} l_{2} m_{2} \\dot{\\theta}_{1}^{2} - g m_{1} \\operatorname{sin}\\left(\\theta_{0} - \\theta_{1}\\right) + g m_{2} \\operatorname{sin}\\left(\\theta_{0} - \\theta_{1}\\right) + l_{1} m_{2} \\operatorname{cos}\\left(\\theta_{1}\\right) \\dot{\\theta}_{0}^{2}}{l_{1} m_{2} \\left(a_{1} - 1\\right) \\operatorname{sin}\\left(\\theta_{1}\\right)}\\\\\\frac{- a_{1}^{2} l_{1}^{2} m_{2} \\dot{\\theta}_{0}^{2} - 2 a_{1} a_{2} l_{1} l_{2} m_{2} \\operatorname{cos}\\left(\\theta_{1}\\right) \\dot{\\theta}_{0}^{2} + 2 a_{1} a_{2} l_{1} l_{2} m_{2} \\operatorname{cos}\\left(\\theta_{1}\\right) \\dot{\\theta}_{0} \\dot{\\theta}_{1} - a_{1} a_{2} l_{1} l_{2} m_{2} \\operatorname{cos}\\left(\\theta_{1}\\right) \\dot{\\theta}_{1}^{2} - a_{1} g l_{1} m_{1} \\operatorname{sin}\\left(\\theta_{0}\\right) + a_{1} g l_{1} m_{2} \\operatorname{sin}\\left(\\theta_{0}\\right) + 2 a_{1} l_{1}^{2} m_{2} \\dot{\\theta}_{0}^{2} - a_{2}^{2} l_{2}^{2} m_{2} \\dot{\\theta}_{0}^{2} + 2 a_{2}^{2} l_{2}^{2} m_{2} \\dot{\\theta}_{0} \\dot{\\theta}_{1} - a_{2}^{2} l_{2}^{2} m_{2} \\dot{\\theta}_{1}^{2} - a_{2} g l_{2} m_{1} \\operatorname{sin}\\left(\\theta_{0} - \\theta_{1}\\right) + a_{2} g l_{2} m_{2} \\operatorname{sin}\\left(\\theta_{0} - \\theta_{1}\\right) + 2 a_{2} l_{1} l_{2} m_{2} \\operatorname{cos}\\left(\\theta_{1}\\right) \\dot{\\theta}_{0}^{2} - 2 a_{2} l_{1} l_{2} m_{2} \\operatorname{cos}\\left(\\theta_{1}\\right) \\dot{\\theta}_{0} \\dot{\\theta}_{1} + a_{2} l_{1} l_{2} m_{2} \\operatorname{cos}\\left(\\theta_{1}\\right) \\dot{\\theta}_{1}^{2} + g l_{1} m_{1} \\operatorname{sin}\\left(\\theta_{0}\\right) - g l_{1} m_{2} \\operatorname{sin}\\left(\\theta_{0}\\right) - l_{1}^{2} m_{2} \\dot{\\theta}_{0}^{2}}{a_{2} l_{1} l_{2} m_{2} \\left(a_{1} - 1\\right) \\operatorname{sin}\\left(\\theta_{1}\\right)}\\end{matrix}\\right]"
   ]
  },
  {
   "cell_type": "markdown",
   "metadata": {},
   "source": [
    "\\left[\\begin{matrix}\\dot{p}_{1}\\\\\\dot{p}_{2}\\\\\\dot{\\theta}_{0}\\\\\\dot{\\theta}_{1}\\\\- \\frac{a_{1} \\left(a_{1} l_{1} m_{2} \\operatorname{sin}\\left(\\theta_{0} - \\theta_{1}\\right) \\dot{\\theta}_{0}^{2} + a_{2} l_{2} m_{2} \\operatorname{sin}\\left(\\theta_{0}\\right) \\dot{\\theta}_{0}^{2} - 2 a_{2} l_{2} m_{2} \\operatorname{sin}\\left(\\theta_{0}\\right) \\dot{\\theta}_{0} \\dot{\\theta}_{1} + a_{2} l_{2} m_{2} \\operatorname{sin}\\left(\\theta_{0}\\right) \\dot{\\theta}_{1}^{2} + g m_{1} \\operatorname{sin}\\left(\\theta_{0} - \\theta_{1}\\right) \\operatorname{sin}\\left(\\theta_{0}\\right) - g m_{2} \\operatorname{sin}\\left(\\theta_{0} - \\theta_{1}\\right) \\operatorname{sin}\\left(\\theta_{0}\\right) - l_{1} m_{2} \\operatorname{sin}\\left(\\theta_{0} - \\theta_{1}\\right) \\dot{\\theta}_{0}^{2}\\right)}{m_{2} \\left(a_{1} - 1\\right) \\operatorname{sin}\\left(\\theta_{1}\\right)}\\\\\\frac{a_{1}^{2} l_{1} m_{2} \\operatorname{cos}\\left(\\theta_{0} - \\theta_{1}\\right) \\dot{\\theta}_{0}^{2} + a_{1} a_{2} l_{2} m_{2} \\operatorname{cos}\\left(\\theta_{0}\\right) \\dot{\\theta}_{0}^{2} - 2 a_{1} a_{2} l_{2} m_{2} \\operatorname{cos}\\left(\\theta_{0}\\right) \\dot{\\theta}_{0} \\dot{\\theta}_{1} + a_{1} a_{2} l_{2} m_{2} \\operatorname{cos}\\left(\\theta_{0}\\right) \\dot{\\theta}_{1}^{2} + a_{1} g m_{1} \\operatorname{sin}\\left(\\theta_{0} - \\theta_{1}\\right) \\operatorname{cos}\\left(\\theta_{0}\\right) - a_{1} g m_{2} \\operatorname{sin}\\left(\\theta_{0}\\right) \\operatorname{cos}\\left(\\theta_{0} - \\theta_{1}\\right) - a_{1} l_{1} m_{2} \\operatorname{cos}\\left(\\theta_{0} - \\theta_{1}\\right) \\dot{\\theta}_{0}^{2} + g m_{2} \\operatorname{sin}\\left(\\theta_{1}\\right)}{m_{2} \\left(a_{1} - 1\\right) \\operatorname{sin}\\left(\\theta_{1}\\right)}\\\\\\frac{- a_{1} l_{1} m_{2} \\operatorname{cos}\\left(\\theta_{1}\\right) \\dot{\\theta}_{0}^{2} - a_{2} l_{2} m_{2} \\dot{\\theta}_{0}^{2} + 2 a_{2} l_{2} m_{2} \\dot{\\theta}_{0} \\dot{\\theta}_{1} - a_{2} l_{2} m_{2} \\dot{\\theta}_{1}^{2} - g m_{1} \\operatorname{sin}\\left(\\theta_{0} - \\theta_{1}\\right) + g m_{2} \\operatorname{sin}\\left(\\theta_{0} - \\theta_{1}\\right) + l_{1} m_{2} \\operatorname{cos}\\left(\\theta_{1}\\right) \\dot{\\theta}_{0}^{2}}{l_{1} m_{2} \\left(a_{1} - 1\\right) \\operatorname{sin}\\left(\\theta_{1}\\right)}\\\\\\frac{- a_{1}^{2} l_{1}^{2} m_{2} \\dot{\\theta}_{0}^{2} - 2 a_{1} a_{2} l_{1} l_{2} m_{2} \\operatorname{cos}\\left(\\theta_{1}\\right) \\dot{\\theta}_{0}^{2} + 2 a_{1} a_{2} l_{1} l_{2} m_{2} \\operatorname{cos}\\left(\\theta_{1}\\right) \\dot{\\theta}_{0} \\dot{\\theta}_{1} - a_{1} a_{2} l_{1} l_{2} m_{2} \\operatorname{cos}\\left(\\theta_{1}\\right) \\dot{\\theta}_{1}^{2} - a_{1} g l_{1} m_{1} \\operatorname{sin}\\left(\\theta_{0}\\right) + a_{1} g l_{1} m_{2} \\operatorname{sin}\\left(\\theta_{0}\\right) + 2 a_{1} l_{1}^{2} m_{2} \\dot{\\theta}_{0}^{2} - a_{2}^{2} l_{2}^{2} m_{2} \\dot{\\theta}_{0}^{2} + 2 a_{2}^{2} l_{2}^{2} m_{2} \\dot{\\theta}_{0} \\dot{\\theta}_{1} - a_{2}^{2} l_{2}^{2} m_{2} \\dot{\\theta}_{1}^{2} - a_{2} g l_{2} m_{1} \\operatorname{sin}\\left(\\theta_{0} - \\theta_{1}\\right) + a_{2} g l_{2} m_{2} \\operatorname{sin}\\left(\\theta_{0} - \\theta_{1}\\right) + 2 a_{2} l_{1} l_{2} m_{2} \\operatorname{cos}\\left(\\theta_{1}\\right) \\dot{\\theta}_{0}^{2} - 2 a_{2} l_{1} l_{2} m_{2} \\operatorname{cos}\\left(\\theta_{1}\\right) \\dot{\\theta}_{0} \\dot{\\theta}_{1} + a_{2} l_{1} l_{2} m_{2} \\operatorname{cos}\\left(\\theta_{1}\\right) \\dot{\\theta}_{1}^{2} + g l_{1} m_{1} \\operatorname{sin}\\left(\\theta_{0}\\right) - g l_{1} m_{2} \\operatorname{sin}\\left(\\theta_{0}\\right) - l_{1}^{2} m_{2} \\dot{\\theta}_{0}^{2}}{a_{2} l_{1} l_{2} m_{2} \\left(a_{1} - 1\\right) \\operatorname{sin}\\left(\\theta_{1}\\right)}\\end{matrix}\\right]\n"
   ]
  },
  {
   "cell_type": "code",
   "execution_count": null,
   "metadata": {},
   "outputs": [],
   "source": [
    "import sympy as sp\n"
   ]
  }
 ],
 "metadata": {
  "kernelspec": {
   "display_name": "Python 3",
   "language": "python",
   "name": "python3"
  },
  "language_info": {
   "codemirror_mode": {
    "name": "ipython",
    "version": 3
   },
   "file_extension": ".py",
   "mimetype": "text/x-python",
   "name": "python",
   "nbconvert_exporter": "python",
   "pygments_lexer": "ipython3",
   "version": "3.8.5"
  }
 },
 "nbformat": 4,
 "nbformat_minor": 4
}
