{
 "cells": [
  {
   "cell_type": "markdown",
   "id": "7cbecfd8",
   "metadata": {},
   "source": [
    "$$\n",
    "2\\,\\tau _{1}\\left(t\\right)+2\\,I_{1}\\,\\frac{\\partial ^2}{\\partial t^2} \\theta _{0}\\left(t\\right)+2\\,{l_{1}}^2\\,m_{1}\\,\\frac{\\partial ^2}{\\partial t^2} \\theta _{0}\\left(t\\right)+g\\,l_{1}\\,m_{1}\\,\\cos\\left(\\theta _{0}\\left(t\\right)\\right)+2\\,g\\,l_{1}\\,m_{2}\\,\\cos\\left(\\theta _{0}\\left(t\\right)\\right)=-2\\,m_{2}\\,{l_{1}}^2\\,\\frac{\\partial ^2}{\\partial t^2} \\theta _{0}\\left(t\\right)-2\\,l_{2}\\,m_{2}\\,\\cos\\left(\\theta _{0}\\left(t\\right)-\\theta _{1}\\left(t\\right)\\right)\\,l_{1}\\,\\frac{\\partial ^2}{\\partial t^2} \\theta _{1}\\left(t\\right)-2\\,l_{2}\\,m_{2}\\,\\sin\\left(\\theta _{0}\\left(t\\right)-\\theta _{1}\\left(t\\right)\\right)\\,l_{1}\\,{\\left(\\frac{\\partial }{\\partial t} \\theta _{1}\\left(t\\right)\\right)}^2\n",
    "\n",
    "$$"
   ]
  },
  {
   "cell_type": "code",
   "execution_count": null,
   "id": "8e6a65b4",
   "metadata": {},
   "outputs": [],
   "source": []
  }
 ],
 "metadata": {
  "kernelspec": {
   "display_name": "Python 3",
   "language": "python",
   "name": "python3"
  },
  "language_info": {
   "codemirror_mode": {
    "name": "ipython",
    "version": 3
   },
   "file_extension": ".py",
   "mimetype": "text/x-python",
   "name": "python",
   "nbconvert_exporter": "python",
   "pygments_lexer": "ipython3",
   "version": "3.8.10"
  }
 },
 "nbformat": 4,
 "nbformat_minor": 5
}
